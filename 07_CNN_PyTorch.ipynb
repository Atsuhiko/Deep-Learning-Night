{
 "cells": [
  {
   "cell_type": "markdown",
   "metadata": {
    "_cell_guid": "18074494-9783-48af-bb66-a9d59a8f43e5",
    "_uuid": "40d27f5ef16aafcf0181acc3320155e595874777"
   },
   "source": [
    "# Convolutional Neural Network With PyTorch"
   ]
  },
  {
   "cell_type": "markdown",
   "metadata": {},
   "source": [
    "Based on https://www.kaggle.com/juiyangchang/cnn-with-pytorch-0-995-accuracy"
   ]
  },
  {
   "cell_type": "code",
   "execution_count": 1,
   "metadata": {
    "_cell_guid": "56682ac8-509e-44fb-a694-4bf1082d36d2",
    "_uuid": "427ce49fba02f44de9e3081288fca2da38e51140"
   },
   "outputs": [],
   "source": [
    "# https://qiita.com/JUN_NETWORKS/items/c2f94f1775b6156b0105\n",
    "# conda install pillow==6.2.1\n",
    "# pillow の最新バージョン(7.0)だとエラーがでる（2020/01/09）\n",
    "# conda install -c pytorch torchvision\n",
    "# conda install pytorch torchvision cudatoolkit=x.x -c pytorch --> gpuがある場合\n",
    "\n",
    "import pandas as pd\n",
    "import numpy as np\n",
    "\n",
    "import torch\n",
    "import torch.nn as nn\n",
    "import torch.nn.functional as F\n",
    "import torch.optim as optim\n",
    "from torch.optim import lr_scheduler\n",
    "from torch.autograd import Variable\n",
    "from torch.utils.data import DataLoader, Dataset\n",
    "from torchvision import transforms\n",
    "from torchvision.utils import make_grid\n",
    "\n",
    "import math\n",
    "import random\n",
    "\n",
    "from PIL import Image, ImageOps, ImageEnhance\n",
    "import numbers\n",
    "\n",
    "import matplotlib.pyplot as plt\n",
    "%matplotlib inline\n",
    "\n",
    "import time # 処理時間計測用"
   ]
  },
  {
   "cell_type": "markdown",
   "metadata": {
    "_cell_guid": "e224069f-8b41-4390-a6d5-09ac6379982f",
    "_uuid": "8a346d02febaa91c6ae6073dad4a227fe38242a9"
   },
   "source": [
    "## Explore the Data"
   ]
  },
  {
   "cell_type": "code",
   "execution_count": 2,
   "metadata": {
    "_cell_guid": "5b89951b-5acb-4957-b6e4-cfeb54f4a053",
    "_uuid": "86cafb6770a21e6ed806c17c2be9897399bdf520"
   },
   "outputs": [
    {
     "name": "stdout",
     "output_type": "stream",
     "text": [
      "Number of training samples: 42000\n",
      "Number of training pixels: 784\n",
      "Number of classes: 10\n"
     ]
    }
   ],
   "source": [
    "train_df = pd.read_csv('./data/train.csv')\n",
    "\n",
    "n_train = len(train_df)\n",
    "n_pixels = len(train_df.columns) - 1\n",
    "n_class = len(set(train_df['label']))\n",
    "\n",
    "print('Number of training samples: {0}'.format(n_train))\n",
    "print('Number of training pixels: {0}'.format(n_pixels))\n",
    "print('Number of classes: {0}'.format(n_class))"
   ]
  },
  {
   "cell_type": "code",
   "execution_count": 3,
   "metadata": {
    "_cell_guid": "7bf732ab-a5e7-4db0-ab30-8b3f1f89bf60",
    "_uuid": "2c697381fd6210380e2350553bd43ca13194cff1"
   },
   "outputs": [
    {
     "name": "stdout",
     "output_type": "stream",
     "text": [
      "Number of train samples: 28000\n",
      "Number of test pixels: 784\n"
     ]
    }
   ],
   "source": [
    "test_df = pd.read_csv('./data/test.csv')\n",
    "\n",
    "n_test = len(test_df)\n",
    "n_pixels = len(test_df.columns)\n",
    "\n",
    "print('Number of train samples: {0}'.format(n_test))\n",
    "print('Number of test pixels: {0}'.format(n_pixels))"
   ]
  },
  {
   "cell_type": "markdown",
   "metadata": {
    "_cell_guid": "a1480b3a-5298-4193-852c-26909b3aa6ea",
    "_uuid": "dbd7b4c21b4049d77bdd3b5d32984fdfbe7b563f"
   },
   "source": [
    "### Display some images"
   ]
  },
  {
   "cell_type": "code",
   "execution_count": 4,
   "metadata": {
    "_cell_guid": "969c8fd1-72b0-46a8-af7c-62f630f626e8",
    "_uuid": "4cfd978d90f8fe48bf7494a2e00448c3ec48b05b"
   },
   "outputs": [
    {
     "name": "stderr",
     "output_type": "stream",
     "text": [
      "D:\\Users\\301518\\AppData\\Local\\Continuum\\anaconda3\\envs\\Python3.6-gpu-PyTorch\\lib\\site-packages\\ipykernel_launcher.py:3: FutureWarning: Method .as_matrix will be removed in a future version. Use .values instead.\n",
      "  This is separate from the ipykernel package so we can avoid doing imports until\n"
     ]
    },
    {
     "name": "stdout",
     "output_type": "stream",
     "text": [
      "3, 5, 1, 8, 0, 5, 8, 6\n"
     ]
    },
    {
     "data": {
      "image/png": "[encoded data removed]",
      "text/plain": [
       "<Figure size 1152x144 with 1 Axes>"
      ]
     },
     "metadata": {
      "needs_background": "light"
     },
     "output_type": "display_data"
    }
   ],
   "source": [
    "random_sel = np.random.randint(n_train, size=8)\n",
    "\n",
    "grid = make_grid(torch.Tensor((train_df.iloc[random_sel, 1:].as_matrix()/255.).reshape((-1, 28, 28))).unsqueeze(1), nrow=8)\n",
    "plt.rcParams['figure.figsize'] = (16, 2)\n",
    "plt.imshow(grid.numpy().transpose((1,2,0)))\n",
    "plt.axis('off')\n",
    "print(*list(train_df.iloc[random_sel, 0].values), sep = ', ')"
   ]
  },
  {
   "cell_type": "markdown",
   "metadata": {
    "_cell_guid": "22f18c2b-012b-4862-91cc-7ecde9db7bfe",
    "_uuid": "21baf11c7663dd085150a3a21e843d67a29acb99"
   },
   "source": [
    "### Histogram of the classes"
   ]
  },
  {
   "cell_type": "code",
   "execution_count": 5,
   "metadata": {
    "_cell_guid": "ecd233dc-e143-4964-87db-21b8aa8a192c",
    "_uuid": "2aad956c1baa1e29a259902835b66b020a540c96"
   },
   "outputs": [
    {
     "name": "stderr",
     "output_type": "stream",
     "text": [
      "findfont: Font family ['IPAexGothic'] not found. Falling back to DejaVu Sans.\n",
      "findfont: Font family ['IPAexGothic'] not found. Falling back to DejaVu Sans.\n"
     ]
    },
    {
     "data": {
      "image/png": "[encoded data removed]",
      "text/plain": [
       "<Figure size 576x360 with 1 Axes>"
      ]
     },
     "metadata": {
      "needs_background": "light"
     },
     "output_type": "display_data"
    }
   ],
   "source": [
    "plt.rcParams['figure.figsize'] = (8, 5)\n",
    "plt.bar(train_df['label'].value_counts().index, train_df['label'].value_counts())\n",
    "plt.xticks(np.arange(n_class))\n",
    "plt.xlabel('Class', fontsize=16)\n",
    "plt.ylabel('Count', fontsize=16)\n",
    "plt.grid('on', axis='y')"
   ]
  },
  {
   "cell_type": "markdown",
   "metadata": {
    "_cell_guid": "f06156b2-2118-4a3b-a648-e15b70a5982e",
    "_uuid": "1166411bc5c17d2147e0e29feb1df8c94b0f203a"
   },
   "source": [
    "## Data Loader"
   ]
  },
  {
   "cell_type": "code",
   "execution_count": 6,
   "metadata": {
    "_cell_guid": "711ee835-cb44-4243-9f7e-60c6c4301cca",
    "_uuid": "13401816f84176712146c336d11bdab8ce549bce"
   },
   "outputs": [],
   "source": [
    "class MNIST_data(Dataset):\n",
    "    \"\"\"MNIST dtaa set\"\"\"\n",
    "    \n",
    "    def __init__(self, file_path, \n",
    "                 transform = transforms.Compose([transforms.ToPILImage(), transforms.ToTensor(), \n",
    "                     transforms.Normalize(mean=(0.5,), std=(0.5,))])\n",
    "                ):\n",
    "        \n",
    "        df = pd.read_csv(file_path)\n",
    "        \n",
    "        if len(df.columns) == n_pixels:\n",
    "            # test data\n",
    "            self.X = df.values.reshape((-1,28,28)).astype(np.uint8)[:,:,:,None]\n",
    "            self.y = None\n",
    "        else:\n",
    "            # training data\n",
    "            self.X = df.iloc[:,1:].values.reshape((-1,28,28)).astype(np.uint8)[:,:,:,None]\n",
    "            self.y = torch.from_numpy(df.iloc[:,0].values)\n",
    "            \n",
    "        self.transform = transform\n",
    "    \n",
    "    def __len__(self):\n",
    "        return len(self.X)\n",
    "\n",
    "    def __getitem__(self, idx):\n",
    "        if self.y is not None:\n",
    "            return self.transform(self.X[idx]), self.y[idx]\n",
    "        else:\n",
    "            return self.transform(self.X[idx])"
   ]
  },
  {
   "cell_type": "markdown",
   "metadata": {
    "_cell_guid": "a593e310-63dc-49a5-b939-ad6a4889b068",
    "_uuid": "db3edd720c83473a77bcc43b463e83d87569d7bb"
   },
   "source": [
    "### Random Rotation Transformation\n",
    "\n",
    "Keras には備わっている機能ですが、PyTorch では自分で関数を作らないといけません。\n",
    "\n",
    "Randomly rotate the image. Available in upcoming torchvision but not now."
   ]
  },
  {
   "cell_type": "code",
   "execution_count": 7,
   "metadata": {
    "_cell_guid": "2b9f5823-708a-446c-9e49-a430d6bc04cb",
    "_uuid": "cc6c3fb42e4a98508bf910b5d289dbe5a0e78bc3"
   },
   "outputs": [],
   "source": [
    "class RandomRotation(object):\n",
    "    \"\"\"\n",
    "    https://github.com/pytorch/vision/tree/master/torchvision/transforms\n",
    "    Rotate the image by angle.\n",
    "    Args:\n",
    "        degrees (sequence or float or int): Range of degrees to select from.\n",
    "            If degrees is a number instead of sequence like (min, max), the range of degrees\n",
    "            will be (-degrees, +degrees).\n",
    "        resample ({PIL.Image.NEAREST, PIL.Image.BILINEAR, PIL.Image.BICUBIC}, optional):\n",
    "            An optional resampling filter.\n",
    "            See http://pillow.readthedocs.io/en/3.4.x/handbook/concepts.html#filters\n",
    "            If omitted, or if the image has mode \"1\" or \"P\", it is set to PIL.Image.NEAREST.\n",
    "        expand (bool, optional): Optional expansion flag.\n",
    "            If true, expands the output to make it large enough to hold the entire rotated image.\n",
    "            If false or omitted, make the output image the same size as the input image.\n",
    "            Note that the expand flag assumes rotation around the center and no translation.\n",
    "        center (2-tuple, optional): Optional center of rotation.\n",
    "            Origin is the upper left corner.\n",
    "            Default is the center of the image.\n",
    "    \"\"\"\n",
    "\n",
    "    def __init__(self, degrees, resample=False, expand=False, center=None):\n",
    "        if isinstance(degrees, numbers.Number):\n",
    "            if degrees < 0:\n",
    "                raise ValueError(\"If degrees is a single number, it must be positive.\")\n",
    "            self.degrees = (-degrees, degrees)\n",
    "        else:\n",
    "            if len(degrees) != 2:\n",
    "                raise ValueError(\"If degrees is a sequence, it must be of len 2.\")\n",
    "            self.degrees = degrees\n",
    "\n",
    "        self.resample = resample\n",
    "        self.expand = expand\n",
    "        self.center = center\n",
    "\n",
    "    @staticmethod\n",
    "    def get_params(degrees):\n",
    "        \"\"\"Get parameters for ``rotate`` for a random rotation.\n",
    "        Returns:\n",
    "            sequence: params to be passed to ``rotate`` for random rotation.\n",
    "        \"\"\"\n",
    "        angle = np.random.uniform(degrees[0], degrees[1])\n",
    "\n",
    "        return angle\n",
    "\n",
    "    def __call__(self, img):\n",
    "        \"\"\"\n",
    "            img (PIL Image): Image to be rotated.\n",
    "        Returns:\n",
    "            PIL Image: Rotated image.\n",
    "        \"\"\"\n",
    "        \n",
    "        def rotate(img, angle, resample=False, expand=False, center=None):\n",
    "            \"\"\"Rotate the image by angle and then (optionally) translate it by (n_columns, n_rows)\n",
    "            Args:\n",
    "            img (PIL Image): PIL Image to be rotated.\n",
    "            angle ({float, int}): In degrees degrees counter clockwise order.\n",
    "            resample ({PIL.Image.NEAREST, PIL.Image.BILINEAR, PIL.Image.BICUBIC}, optional):\n",
    "            An optional resampling filter.\n",
    "            See http://pillow.readthedocs.io/en/3.4.x/handbook/concepts.html#filters\n",
    "            If omitted, or if the image has mode \"1\" or \"P\", it is set to PIL.Image.NEAREST.\n",
    "            expand (bool, optional): Optional expansion flag.\n",
    "            If true, expands the output image to make it large enough to hold the entire rotated image.\n",
    "            If false or omitted, make the output image the same size as the input image.\n",
    "            Note that the expand flag assumes rotation around the center and no translation.\n",
    "            center (2-tuple, optional): Optional center of rotation.\n",
    "            Origin is the upper left corner.\n",
    "            Default is the center of the image.\n",
    "            \"\"\"\n",
    "                \n",
    "            return img.rotate(angle, resample, expand, center)\n",
    "\n",
    "        angle = self.get_params(self.degrees)\n",
    "\n",
    "        return rotate(img, angle, self.resample, self.expand, self.center)"
   ]
  },
  {
   "cell_type": "markdown",
   "metadata": {
    "_cell_guid": "8bbe7231-1109-4531-9ecc-a25e575be23a",
    "_uuid": "97ef1e719ef91ea602e9c4ad7ccef6ed6e1957d1"
   },
   "source": [
    "### Random Vertical and Horizontal Shift\n",
    "こちらも自分で関数を作ります。"
   ]
  },
  {
   "cell_type": "code",
   "execution_count": 8,
   "metadata": {
    "_cell_guid": "f1397122-d153-454e-b2c3-fad53971736b",
    "_uuid": "533c2041e8a0abe78c511e87010b4ab0808203de"
   },
   "outputs": [],
   "source": [
    "class RandomShift(object):\n",
    "    def __init__(self, shift):\n",
    "        self.shift = shift\n",
    "        \n",
    "    @staticmethod\n",
    "    def get_params(shift):\n",
    "        \"\"\"Get parameters for ``rotate`` for a random rotation.\n",
    "        Returns:\n",
    "            sequence: params to be passed to ``rotate`` for random rotation.\n",
    "        \"\"\"\n",
    "        hshift, vshift = np.random.uniform(-shift, shift, size=2)\n",
    "\n",
    "        return hshift, vshift \n",
    "    def __call__(self, img):\n",
    "        hshift, vshift = self.get_params(self.shift)\n",
    "        \n",
    "        return img.transform(img.size, Image.AFFINE, (1,0,hshift,0,1,vshift), resample=Image.BICUBIC, fill=1)\n",
    "    "
   ]
  },
  {
   "cell_type": "markdown",
   "metadata": {
    "_cell_guid": "b23f5c0f-045a-4beb-afc1-ae8b696f9c65",
    "_uuid": "3d697f1ef60768dd886819fc9bb77d504086cbac"
   },
   "source": [
    "## Load the Data into Tensors\n",
    "For the training set, apply random rotation within the range of (-45, 45) degrees, shift by (-3, 3) pixels\n",
    "and normalize pixel values to [-1, 1].  For the test set, only apply nomalization."
   ]
  },
  {
   "cell_type": "code",
   "execution_count": 9,
   "metadata": {
    "_cell_guid": "d0e41412-1be1-4ca6-a5f8-d7839d2e7010",
    "_uuid": "5f6e6b26a71c7ca9fc3126265ad8d27491a849f5"
   },
   "outputs": [],
   "source": [
    "batch_size = 64\n",
    "\n",
    "train_dataset = MNIST_data('./data/train.csv', transform= transforms.Compose(\n",
    "                            [transforms.ToPILImage(), RandomRotation(degrees=20), RandomShift(3),\n",
    "                             transforms.ToTensor(), transforms.Normalize(mean=(0.5,), std=(0.5,))]))\n",
    "test_dataset = MNIST_data('./data/test.csv')\n",
    "\n",
    "\n",
    "train_loader = torch.utils.data.DataLoader(dataset=train_dataset,\n",
    "                                           batch_size=batch_size, shuffle=True)\n",
    "test_loader = torch.utils.data.DataLoader(dataset=test_dataset,\n",
    "                                           batch_size=batch_size, shuffle=False)"
   ]
  },
  {
   "cell_type": "markdown",
   "metadata": {
    "_cell_guid": "0b774eb3-1b54-43b0-a312-0d9ec0bea961",
    "_uuid": "f12c1c91af952a8c24b0ef07477fb1bf22f19d6c"
   },
   "source": [
    "### Visualize the Transformations"
   ]
  },
  {
   "cell_type": "code",
   "execution_count": 10,
   "metadata": {
    "_cell_guid": "3bbe59c6-09dc-487a-8c45-e1dff23e7820",
    "_uuid": "7dc11b9516313eb35080c04b2f8d2d6deffdae6b"
   },
   "outputs": [
    {
     "name": "stderr",
     "output_type": "stream",
     "text": [
      "findfont: Font family ['IPAexGothic'] not found. Falling back to DejaVu Sans.\n"
     ]
    },
    {
     "data": {
      "image/png": "[encoded data removed]",
      "text/plain": [
       "<Figure size 576x360 with 3 Axes>"
      ]
     },
     "metadata": {
      "needs_background": "light"
     },
     "output_type": "display_data"
    }
   ],
   "source": [
    "rotate = RandomRotation(20)\n",
    "shift = RandomShift(3)\n",
    "composed = transforms.Compose([RandomRotation(20),\n",
    "                               RandomShift(3)])\n",
    "\n",
    "# Apply each of the above transforms on sample.\n",
    "fig = plt.figure()\n",
    "sample = transforms.ToPILImage()(np.array(train_df.iloc[65,1:]).reshape((28,28)).astype(np.uint8)[:,:,None])\n",
    "for i, tsfrm in enumerate([rotate, shift, composed]):\n",
    "    transformed_sample = tsfrm(sample)\n",
    "\n",
    "    ax = plt.subplot(1, 3, i + 1)\n",
    "    plt.tight_layout()\n",
    "    ax.set_title(type(tsfrm).__name__)\n",
    "    ax.imshow(np.reshape(np.array(list(transformed_sample.getdata())), (-1,28)), cmap='gray')    \n",
    "\n",
    "plt.show()"
   ]
  },
  {
   "cell_type": "markdown",
   "metadata": {
    "_cell_guid": "351ce32d-7f9d-4ea9-983a-bf99aeaf63d8",
    "_uuid": "faaa2bd7a8b30fbf925b34fa6dd1eca9655a756e"
   },
   "source": [
    "## Network Structure"
   ]
  },
  {
   "cell_type": "code",
   "execution_count": 11,
   "metadata": {
    "_cell_guid": "766abaee-5811-4963-a4ac-69d910d9eead",
    "_uuid": "875f53c04b120b40cd695c57a774165259183413"
   },
   "outputs": [],
   "source": [
    "class Net(nn.Module):    \n",
    "    def __init__(self):\n",
    "        super(Net, self).__init__()\n",
    "          \n",
    "        self.features = nn.Sequential(\n",
    "            nn.Conv2d(1, 32, kernel_size=3, stride=1, padding=1),\n",
    "            nn.BatchNorm2d(32),\n",
    "            nn.ReLU(inplace=True),\n",
    "            nn.Conv2d(32, 32, kernel_size=3, stride=1, padding=1),\n",
    "            nn.BatchNorm2d(32),\n",
    "            nn.ReLU(inplace=True),\n",
    "            nn.MaxPool2d(kernel_size=2, stride=2),\n",
    "            nn.Conv2d(32, 64, kernel_size=3, padding=1),\n",
    "            nn.BatchNorm2d(64),\n",
    "            nn.ReLU(inplace=True),\n",
    "            nn.Conv2d(64, 64, kernel_size=3, padding=1),\n",
    "            nn.BatchNorm2d(64),\n",
    "            nn.ReLU(inplace=True),\n",
    "            nn.MaxPool2d(kernel_size=2, stride=2)\n",
    "        )\n",
    "          \n",
    "        self.classifier = nn.Sequential(\n",
    "            nn.Dropout(p = 0.5),\n",
    "            nn.Linear(64 * 7 * 7, 512),\n",
    "            nn.BatchNorm1d(512),\n",
    "            nn.ReLU(inplace=True),\n",
    "            nn.Dropout(p = 0.5),\n",
    "            nn.Linear(512, 512),\n",
    "            nn.BatchNorm1d(512),\n",
    "            nn.ReLU(inplace=True),\n",
    "            nn.Dropout(p = 0.5),\n",
    "            nn.Linear(512, 10),\n",
    "        )\n",
    "          \n",
    "        for m in self.features.children():\n",
    "            if isinstance(m, nn.Conv2d):\n",
    "                n = m.kernel_size[0] * m.kernel_size[1] * m.out_channels\n",
    "                m.weight.data.normal_(0, math.sqrt(2. / n))\n",
    "            elif isinstance(m, nn.BatchNorm2d):\n",
    "                m.weight.data.fill_(1)\n",
    "                m.bias.data.zero_()\n",
    "        \n",
    "        for m in self.classifier.children():\n",
    "            if isinstance(m, nn.Linear):\n",
    "                nn.init.xavier_uniform(m.weight)\n",
    "            elif isinstance(m, nn.BatchNorm1d):\n",
    "                m.weight.data.fill_(1)\n",
    "                m.bias.data.zero_()\n",
    "                \n",
    "\n",
    "    def forward(self, x):\n",
    "        x = self.features(x)\n",
    "        x = x.view(x.size(0), -1)\n",
    "        x = self.classifier(x)\n",
    "        \n",
    "        return x     "
   ]
  },
  {
   "cell_type": "code",
   "execution_count": 12,
   "metadata": {
    "_cell_guid": "5b36bb2e-f4ce-4831-b829-0b737b88c014",
    "_uuid": "3227d3f557f1770c43721ea7fc9bfc11d313e177",
    "scrolled": true
   },
   "outputs": [
    {
     "name": "stderr",
     "output_type": "stream",
     "text": [
      "D:\\Users\\301518\\AppData\\Local\\Continuum\\anaconda3\\envs\\Python3.6-gpu-PyTorch\\lib\\site-packages\\ipykernel_launcher.py:45: UserWarning: nn.init.xavier_uniform is now deprecated in favor of nn.init.xavier_uniform_.\n"
     ]
    }
   ],
   "source": [
    "model = Net()\n",
    "\n",
    "optimizer = optim.Adam(model.parameters(), lr=0.003)\n",
    "\n",
    "criterion = nn.CrossEntropyLoss()\n",
    "\n",
    "exp_lr_scheduler = lr_scheduler.StepLR(optimizer, step_size=7, gamma=0.1)\n",
    "\n",
    "if torch.cuda.is_available():\n",
    "    model = model.cuda()\n",
    "    criterion = criterion.cuda()"
   ]
  },
  {
   "cell_type": "code",
   "execution_count": 13,
   "metadata": {},
   "outputs": [
    {
     "data": {
      "text/plain": [
       "Net(\n",
       "  (features): Sequential(\n",
       "    (0): Conv2d(1, 32, kernel_size=(3, 3), stride=(1, 1), padding=(1, 1))\n",
       "    (1): BatchNorm2d(32, eps=1e-05, momentum=0.1, affine=True, track_running_stats=True)\n",
       "    (2): ReLU(inplace)\n",
       "    (3): Conv2d(32, 32, kernel_size=(3, 3), stride=(1, 1), padding=(1, 1))\n",
       "    (4): BatchNorm2d(32, eps=1e-05, momentum=0.1, affine=True, track_running_stats=True)\n",
       "    (5): ReLU(inplace)\n",
       "    (6): MaxPool2d(kernel_size=2, stride=2, padding=0, dilation=1, ceil_mode=False)\n",
       "    (7): Conv2d(32, 64, kernel_size=(3, 3), stride=(1, 1), padding=(1, 1))\n",
       "    (8): BatchNorm2d(64, eps=1e-05, momentum=0.1, affine=True, track_running_stats=True)\n",
       "    (9): ReLU(inplace)\n",
       "    (10): Conv2d(64, 64, kernel_size=(3, 3), stride=(1, 1), padding=(1, 1))\n",
       "    (11): BatchNorm2d(64, eps=1e-05, momentum=0.1, affine=True, track_running_stats=True)\n",
       "    (12): ReLU(inplace)\n",
       "    (13): MaxPool2d(kernel_size=2, stride=2, padding=0, dilation=1, ceil_mode=False)\n",
       "  )\n",
       "  (classifier): Sequential(\n",
       "    (0): Dropout(p=0.5)\n",
       "    (1): Linear(in_features=3136, out_features=512, bias=True)\n",
       "    (2): BatchNorm1d(512, eps=1e-05, momentum=0.1, affine=True, track_running_stats=True)\n",
       "    (3): ReLU(inplace)\n",
       "    (4): Dropout(p=0.5)\n",
       "    (5): Linear(in_features=512, out_features=512, bias=True)\n",
       "    (6): BatchNorm1d(512, eps=1e-05, momentum=0.1, affine=True, track_running_stats=True)\n",
       "    (7): ReLU(inplace)\n",
       "    (8): Dropout(p=0.5)\n",
       "    (9): Linear(in_features=512, out_features=10, bias=True)\n",
       "  )\n",
       ")"
      ]
     },
     "execution_count": 13,
     "metadata": {},
     "output_type": "execute_result"
    }
   ],
   "source": [
    "model"
   ]
  },
  {
   "cell_type": "markdown",
   "metadata": {
    "_cell_guid": "41fecd4e-d764-4da2-8efd-e94b5b243770",
    "_uuid": "f1ad41846a5182bacb284b362bac52d0c17bd29e"
   },
   "source": [
    "## Training and Evaluation"
   ]
  },
  {
   "cell_type": "code",
   "execution_count": 14,
   "metadata": {
    "_cell_guid": "be618460-65ae-4dfc-b106-1970019b984f",
    "_uuid": "397c6aa3d575226f3fb0c8a3a8a30889bcd8e255"
   },
   "outputs": [],
   "source": [
    "def train(epoch):\n",
    "    model.train()\n",
    "    exp_lr_scheduler.step()\n",
    "\n",
    "    for batch_idx, (data, target) in enumerate(train_loader):\n",
    "        \n",
    "        data, target = Variable(data), Variable(target)\n",
    "        start = time.time() # elapsed_time = time.time() - start\n",
    "        \n",
    "        if torch.cuda.is_available():\n",
    "            data = data.cuda()\n",
    "            target = target.cuda()\n",
    "        \n",
    "        optimizer.zero_grad()\n",
    "        output = model(data)\n",
    "        loss = criterion(output, target)\n",
    "        \n",
    "        loss.backward()\n",
    "        optimizer.step()\n",
    "        \n",
    "        elapsed_time = time.time() - start # batch毎の処理時間\n",
    "        \n",
    "        if (batch_idx + 1)% 100 == 0:\n",
    "            print('Train Epoch: {} [{}/{} ({:.0f}%)]\\tLoss: {:.6f}\\telapsed_time: {:.2f}sec'.format(\n",
    "                epoch, (batch_idx + 1) * len(data), len(train_loader.dataset),\n",
    "                100. * (batch_idx + 1) / len(train_loader), loss.data.item(), elapsed_time)) # 修正   "
   ]
  },
  {
   "cell_type": "code",
   "execution_count": 15,
   "metadata": {
    "_cell_guid": "3901fd52-c016-4b7f-bcb4-80a2449b43f4",
    "_uuid": "977bf7d8ca46333bb53b7b44be40942d0e82572a"
   },
   "outputs": [],
   "source": [
    "def evaluate(data_loader):\n",
    "    model.eval()\n",
    "    loss = 0\n",
    "    correct = 0\n",
    "    elapsed_time = time.time() - start # epoch毎の処理時間\n",
    "    \n",
    "    for data, target in data_loader:\n",
    "        data, target = Variable(data, volatile=True), Variable(target)\n",
    "        if torch.cuda.is_available():\n",
    "            data = data.cuda()\n",
    "            target = target.cuda()\n",
    "        \n",
    "        output = model(data)\n",
    "        \n",
    "        loss += F.cross_entropy(output, target, size_average=False).data.item() # 修正\n",
    "\n",
    "        pred = output.data.max(1, keepdim=True)[1]\n",
    "        correct += pred.eq(target.data.view_as(pred)).cpu().sum()\n",
    "        \n",
    "    loss /= len(data_loader.dataset)\n",
    "    correct = correct.to('cpu').detach().numpy() # pytorch tensor から numpy ndarray に変換\n",
    "    accuracy = 100. * correct / len(data_loader.dataset)\n",
    "        \n",
    "    print('\\nAverage loss: {:.4f}, Accuracy: {}/{} ({:.2f}%), Epoch time: {:.2f}sec\\n'.format(\n",
    "        loss, correct, len(data_loader.dataset), accuracy, elapsed_time))"
   ]
  },
  {
   "cell_type": "markdown",
   "metadata": {
    "_cell_guid": "1edb9d12-9411-4fc1-8a3e-045713b6b448",
    "_uuid": "a4c4986684b3915e329a6fc5ab380a58cb07bec7"
   },
   "source": [
    "### Train the network\n",
    "\n",
    "Reaches 0.995 accuracy on test set after 50 epochs"
   ]
  },
  {
   "cell_type": "code",
   "execution_count": 16,
   "metadata": {
    "_cell_guid": "c7b3146c-0beb-438d-a8de-15f6afa11ba3",
    "_uuid": "6ca8fe3ded9fcd5dc09350aff412d878eac0df6a",
    "scrolled": false
   },
   "outputs": [
    {
     "name": "stdout",
     "output_type": "stream",
     "text": [
      "Train Epoch: 0 [6400/42000 (15%)]\tLoss: 0.474269\telapsed_time: 0.02sec\n",
      "Train Epoch: 0 [12800/42000 (30%)]\tLoss: 0.290143\telapsed_time: 0.02sec\n",
      "Train Epoch: 0 [19200/42000 (46%)]\tLoss: 0.206994\telapsed_time: 0.02sec\n",
      "Train Epoch: 0 [25600/42000 (61%)]\tLoss: 0.226199\telapsed_time: 0.02sec\n",
      "Train Epoch: 0 [32000/42000 (76%)]\tLoss: 0.240445\telapsed_time: 0.02sec\n",
      "Train Epoch: 0 [38400/42000 (91%)]\tLoss: 0.294328\telapsed_time: 0.02sec\n"
     ]
    },
    {
     "name": "stderr",
     "output_type": "stream",
     "text": [
      "D:\\Users\\301518\\AppData\\Local\\Continuum\\anaconda3\\envs\\Python3.6-gpu-PyTorch\\lib\\site-packages\\ipykernel_launcher.py:8: UserWarning: volatile was removed and now has no effect. Use `with torch.no_grad():` instead.\n",
      "  \n",
      "D:\\Users\\301518\\AppData\\Local\\Continuum\\anaconda3\\envs\\Python3.6-gpu-PyTorch\\lib\\site-packages\\torch\\nn\\_reduction.py:46: UserWarning: size_average and reduce args will be deprecated, please use reduction='sum' instead.\n",
      "  warnings.warn(warning.format(ret))\n"
     ]
    },
    {
     "name": "stdout",
     "output_type": "stream",
     "text": [
      "\n",
      "Average loss: 0.1152, Accuracy: 40411/42000 (96.22%), Epoch time: 25.66sec\n",
      "\n",
      "Train Epoch: 1 [6400/42000 (15%)]\tLoss: 0.092242\telapsed_time: 0.02sec\n",
      "Train Epoch: 1 [12800/42000 (30%)]\tLoss: 0.232714\telapsed_time: 0.02sec\n",
      "Train Epoch: 1 [19200/42000 (46%)]\tLoss: 0.198355\telapsed_time: 0.02sec\n",
      "Train Epoch: 1 [25600/42000 (61%)]\tLoss: 0.153360\telapsed_time: 0.02sec\n",
      "Train Epoch: 1 [32000/42000 (76%)]\tLoss: 0.128594\telapsed_time: 0.02sec\n",
      "Train Epoch: 1 [38400/42000 (91%)]\tLoss: 0.039239\telapsed_time: 0.02sec\n",
      "\n",
      "Average loss: 0.0645, Accuracy: 41142/42000 (97.96%), Epoch time: 26.35sec\n",
      "\n",
      "Train Epoch: 2 [6400/42000 (15%)]\tLoss: 0.099244\telapsed_time: 0.02sec\n",
      "Train Epoch: 2 [12800/42000 (30%)]\tLoss: 0.341478\telapsed_time: 0.02sec\n",
      "Train Epoch: 2 [19200/42000 (46%)]\tLoss: 0.134184\telapsed_time: 0.02sec\n",
      "Train Epoch: 2 [25600/42000 (61%)]\tLoss: 0.264954\telapsed_time: 0.02sec\n",
      "Train Epoch: 2 [32000/42000 (76%)]\tLoss: 0.035183\telapsed_time: 0.02sec\n",
      "Train Epoch: 2 [38400/42000 (91%)]\tLoss: 0.069158\telapsed_time: 0.02sec\n",
      "\n",
      "Average loss: 0.0583, Accuracy: 41276/42000 (98.28%), Epoch time: 25.97sec\n",
      "\n",
      "Train Epoch: 3 [6400/42000 (15%)]\tLoss: 0.021097\telapsed_time: 0.02sec\n",
      "Train Epoch: 3 [12800/42000 (30%)]\tLoss: 0.129601\telapsed_time: 0.02sec\n",
      "Train Epoch: 3 [19200/42000 (46%)]\tLoss: 0.093604\telapsed_time: 0.02sec\n",
      "Train Epoch: 3 [25600/42000 (61%)]\tLoss: 0.231657\telapsed_time: 0.02sec\n",
      "Train Epoch: 3 [32000/42000 (76%)]\tLoss: 0.115341\telapsed_time: 0.02sec\n",
      "Train Epoch: 3 [38400/42000 (91%)]\tLoss: 0.027987\telapsed_time: 0.02sec\n",
      "\n",
      "Average loss: 0.0543, Accuracy: 41317/42000 (98.37%), Epoch time: 25.47sec\n",
      "\n",
      "Train Epoch: 4 [6400/42000 (15%)]\tLoss: 0.152680\telapsed_time: 0.02sec\n",
      "Train Epoch: 4 [12800/42000 (30%)]\tLoss: 0.079023\telapsed_time: 0.02sec\n",
      "Train Epoch: 4 [19200/42000 (46%)]\tLoss: 0.139542\telapsed_time: 0.01sec\n",
      "Train Epoch: 4 [25600/42000 (61%)]\tLoss: 0.073461\telapsed_time: 0.02sec\n",
      "Train Epoch: 4 [32000/42000 (76%)]\tLoss: 0.028841\telapsed_time: 0.02sec\n",
      "Train Epoch: 4 [38400/42000 (91%)]\tLoss: 0.091474\telapsed_time: 0.02sec\n",
      "\n",
      "Average loss: 0.0468, Accuracy: 41409/42000 (98.59%), Epoch time: 25.29sec\n",
      "\n",
      "Train Epoch: 5 [6400/42000 (15%)]\tLoss: 0.183125\telapsed_time: 0.02sec\n",
      "Train Epoch: 5 [12800/42000 (30%)]\tLoss: 0.228584\telapsed_time: 0.02sec\n",
      "Train Epoch: 5 [19200/42000 (46%)]\tLoss: 0.059149\telapsed_time: 0.02sec\n",
      "Train Epoch: 5 [25600/42000 (61%)]\tLoss: 0.085911\telapsed_time: 0.02sec\n",
      "Train Epoch: 5 [32000/42000 (76%)]\tLoss: 0.081739\telapsed_time: 0.02sec\n",
      "Train Epoch: 5 [38400/42000 (91%)]\tLoss: 0.073221\telapsed_time: 0.03sec\n",
      "\n",
      "Average loss: 0.0414, Accuracy: 41443/42000 (98.67%), Epoch time: 28.60sec\n",
      "\n",
      "Train Epoch: 6 [6400/42000 (15%)]\tLoss: 0.079823\telapsed_time: 0.02sec\n",
      "Train Epoch: 6 [12800/42000 (30%)]\tLoss: 0.133092\telapsed_time: 0.02sec\n",
      "Train Epoch: 6 [19200/42000 (46%)]\tLoss: 0.018212\telapsed_time: 0.02sec\n",
      "Train Epoch: 6 [25600/42000 (61%)]\tLoss: 0.128924\telapsed_time: 0.02sec\n",
      "Train Epoch: 6 [32000/42000 (76%)]\tLoss: 0.031933\telapsed_time: 0.02sec\n",
      "Train Epoch: 6 [38400/42000 (91%)]\tLoss: 0.234331\telapsed_time: 0.02sec\n",
      "\n",
      "Average loss: 0.0308, Accuracy: 41597/42000 (99.04%), Epoch time: 25.27sec\n",
      "\n",
      "Train Epoch: 7 [6400/42000 (15%)]\tLoss: 0.121077\telapsed_time: 0.02sec\n",
      "Train Epoch: 7 [12800/42000 (30%)]\tLoss: 0.064616\telapsed_time: 0.02sec\n",
      "Train Epoch: 7 [19200/42000 (46%)]\tLoss: 0.145971\telapsed_time: 0.02sec\n",
      "Train Epoch: 7 [25600/42000 (61%)]\tLoss: 0.059006\telapsed_time: 0.02sec\n",
      "Train Epoch: 7 [32000/42000 (76%)]\tLoss: 0.042976\telapsed_time: 0.02sec\n",
      "Train Epoch: 7 [38400/42000 (91%)]\tLoss: 0.037592\telapsed_time: 0.02sec\n",
      "\n",
      "Average loss: 0.0287, Accuracy: 41621/42000 (99.10%), Epoch time: 25.08sec\n",
      "\n",
      "Train Epoch: 8 [6400/42000 (15%)]\tLoss: 0.032000\telapsed_time: 0.02sec\n",
      "Train Epoch: 8 [12800/42000 (30%)]\tLoss: 0.068155\telapsed_time: 0.02sec\n",
      "Train Epoch: 8 [19200/42000 (46%)]\tLoss: 0.011616\telapsed_time: 0.02sec\n",
      "Train Epoch: 8 [25600/42000 (61%)]\tLoss: 0.106415\telapsed_time: 0.02sec\n",
      "Train Epoch: 8 [32000/42000 (76%)]\tLoss: 0.014049\telapsed_time: 0.02sec\n",
      "Train Epoch: 8 [38400/42000 (91%)]\tLoss: 0.017547\telapsed_time: 0.02sec\n",
      "\n",
      "Average loss: 0.0277, Accuracy: 41630/42000 (99.12%), Epoch time: 24.64sec\n",
      "\n",
      "Train Epoch: 9 [6400/42000 (15%)]\tLoss: 0.060163\telapsed_time: 0.02sec\n",
      "Train Epoch: 9 [12800/42000 (30%)]\tLoss: 0.045413\telapsed_time: 0.02sec\n",
      "Train Epoch: 9 [19200/42000 (46%)]\tLoss: 0.147771\telapsed_time: 0.02sec\n",
      "Train Epoch: 9 [25600/42000 (61%)]\tLoss: 0.097978\telapsed_time: 0.02sec\n",
      "Train Epoch: 9 [32000/42000 (76%)]\tLoss: 0.002945\telapsed_time: 0.02sec\n",
      "Train Epoch: 9 [38400/42000 (91%)]\tLoss: 0.153245\telapsed_time: 0.02sec\n",
      "\n",
      "Average loss: 0.0265, Accuracy: 41669/42000 (99.21%), Epoch time: 27.48sec\n",
      "\n",
      "Train Epoch: 10 [6400/42000 (15%)]\tLoss: 0.054973\telapsed_time: 0.02sec\n",
      "Train Epoch: 10 [12800/42000 (30%)]\tLoss: 0.044955\telapsed_time: 0.02sec\n",
      "Train Epoch: 10 [19200/42000 (46%)]\tLoss: 0.039509\telapsed_time: 0.02sec\n",
      "Train Epoch: 10 [25600/42000 (61%)]\tLoss: 0.042785\telapsed_time: 0.02sec\n",
      "Train Epoch: 10 [32000/42000 (76%)]\tLoss: 0.025745\telapsed_time: 0.01sec\n",
      "Train Epoch: 10 [38400/42000 (91%)]\tLoss: 0.014077\telapsed_time: 0.02sec\n",
      "\n",
      "Average loss: 0.0260, Accuracy: 41658/42000 (99.19%), Epoch time: 25.77sec\n",
      "\n",
      "Train Epoch: 11 [6400/42000 (15%)]\tLoss: 0.033838\telapsed_time: 0.02sec\n",
      "Train Epoch: 11 [12800/42000 (30%)]\tLoss: 0.017050\telapsed_time: 0.02sec\n",
      "Train Epoch: 11 [19200/42000 (46%)]\tLoss: 0.008652\telapsed_time: 0.02sec\n",
      "Train Epoch: 11 [25600/42000 (61%)]\tLoss: 0.066301\telapsed_time: 0.02sec\n",
      "Train Epoch: 11 [32000/42000 (76%)]\tLoss: 0.162165\telapsed_time: 0.02sec\n",
      "Train Epoch: 11 [38400/42000 (91%)]\tLoss: 0.037301\telapsed_time: 0.02sec\n",
      "\n",
      "Average loss: 0.0237, Accuracy: 41693/42000 (99.27%), Epoch time: 25.91sec\n",
      "\n",
      "Train Epoch: 12 [6400/42000 (15%)]\tLoss: 0.031768\telapsed_time: 0.02sec\n",
      "Train Epoch: 12 [12800/42000 (30%)]\tLoss: 0.023371\telapsed_time: 0.02sec\n",
      "Train Epoch: 12 [19200/42000 (46%)]\tLoss: 0.012155\telapsed_time: 0.02sec\n",
      "Train Epoch: 12 [25600/42000 (61%)]\tLoss: 0.058148\telapsed_time: 0.02sec\n",
      "Train Epoch: 12 [32000/42000 (76%)]\tLoss: 0.179733\telapsed_time: 0.02sec\n",
      "Train Epoch: 12 [38400/42000 (91%)]\tLoss: 0.006739\telapsed_time: 0.02sec\n",
      "\n",
      "Average loss: 0.0240, Accuracy: 41689/42000 (99.26%), Epoch time: 26.02sec\n",
      "\n",
      "Train Epoch: 13 [6400/42000 (15%)]\tLoss: 0.039805\telapsed_time: 0.02sec\n",
      "Train Epoch: 13 [12800/42000 (30%)]\tLoss: 0.003058\telapsed_time: 0.02sec\n",
      "Train Epoch: 13 [19200/42000 (46%)]\tLoss: 0.089346\telapsed_time: 0.02sec\n",
      "Train Epoch: 13 [25600/42000 (61%)]\tLoss: 0.005829\telapsed_time: 0.02sec\n",
      "Train Epoch: 13 [32000/42000 (76%)]\tLoss: 0.038507\telapsed_time: 0.02sec\n",
      "Train Epoch: 13 [38400/42000 (91%)]\tLoss: 0.105811\telapsed_time: 0.02sec\n",
      "\n",
      "Average loss: 0.0228, Accuracy: 41698/42000 (99.28%), Epoch time: 27.18sec\n",
      "\n",
      "Train Epoch: 14 [6400/42000 (15%)]\tLoss: 0.032629\telapsed_time: 0.02sec\n",
      "Train Epoch: 14 [12800/42000 (30%)]\tLoss: 0.006296\telapsed_time: 0.02sec\n",
      "Train Epoch: 14 [19200/42000 (46%)]\tLoss: 0.107672\telapsed_time: 0.02sec\n",
      "Train Epoch: 14 [25600/42000 (61%)]\tLoss: 0.118715\telapsed_time: 0.02sec\n",
      "Train Epoch: 14 [32000/42000 (76%)]\tLoss: 0.041796\telapsed_time: 0.02sec\n",
      "Train Epoch: 14 [38400/42000 (91%)]\tLoss: 0.065267\telapsed_time: 0.02sec\n",
      "\n",
      "Average loss: 0.0215, Accuracy: 41713/42000 (99.32%), Epoch time: 26.21sec\n",
      "\n",
      "Train Epoch: 15 [6400/42000 (15%)]\tLoss: 0.003748\telapsed_time: 0.02sec\n",
      "Train Epoch: 15 [12800/42000 (30%)]\tLoss: 0.058605\telapsed_time: 0.02sec\n",
      "Train Epoch: 15 [19200/42000 (46%)]\tLoss: 0.016571\telapsed_time: 0.02sec\n",
      "Train Epoch: 15 [25600/42000 (61%)]\tLoss: 0.004319\telapsed_time: 0.02sec\n",
      "Train Epoch: 15 [32000/42000 (76%)]\tLoss: 0.027092\telapsed_time: 0.02sec\n",
      "Train Epoch: 15 [38400/42000 (91%)]\tLoss: 0.106777\telapsed_time: 0.02sec\n",
      "\n",
      "Average loss: 0.0221, Accuracy: 41708/42000 (99.30%), Epoch time: 26.54sec\n",
      "\n",
      "Train Epoch: 16 [6400/42000 (15%)]\tLoss: 0.043670\telapsed_time: 0.02sec\n",
      "Train Epoch: 16 [12800/42000 (30%)]\tLoss: 0.050206\telapsed_time: 0.02sec\n",
      "Train Epoch: 16 [19200/42000 (46%)]\tLoss: 0.057382\telapsed_time: 0.02sec\n",
      "Train Epoch: 16 [25600/42000 (61%)]\tLoss: 0.006357\telapsed_time: 0.02sec\n",
      "Train Epoch: 16 [32000/42000 (76%)]\tLoss: 0.054175\telapsed_time: 0.01sec\n",
      "Train Epoch: 16 [38400/42000 (91%)]\tLoss: 0.009616\telapsed_time: 0.02sec\n",
      "\n",
      "Average loss: 0.0222, Accuracy: 41707/42000 (99.30%), Epoch time: 24.85sec\n"
     ]
    },
    {
     "name": "stdout",
     "output_type": "stream",
     "text": [
      "\n",
      "Train Epoch: 17 [6400/42000 (15%)]\tLoss: 0.013890\telapsed_time: 0.02sec\n",
      "Train Epoch: 17 [12800/42000 (30%)]\tLoss: 0.024511\telapsed_time: 0.02sec\n",
      "Train Epoch: 17 [19200/42000 (46%)]\tLoss: 0.018486\telapsed_time: 0.02sec\n",
      "Train Epoch: 17 [25600/42000 (61%)]\tLoss: 0.101996\telapsed_time: 0.02sec\n",
      "Train Epoch: 17 [32000/42000 (76%)]\tLoss: 0.103590\telapsed_time: 0.02sec\n",
      "Train Epoch: 17 [38400/42000 (91%)]\tLoss: 0.156941\telapsed_time: 0.02sec\n",
      "\n",
      "Average loss: 0.0217, Accuracy: 41727/42000 (99.35%), Epoch time: 24.59sec\n",
      "\n",
      "Train Epoch: 18 [6400/42000 (15%)]\tLoss: 0.015709\telapsed_time: 0.02sec\n",
      "Train Epoch: 18 [12800/42000 (30%)]\tLoss: 0.002825\telapsed_time: 0.02sec\n",
      "Train Epoch: 18 [19200/42000 (46%)]\tLoss: 0.013349\telapsed_time: 0.02sec\n",
      "Train Epoch: 18 [25600/42000 (61%)]\tLoss: 0.015724\telapsed_time: 0.02sec\n",
      "Train Epoch: 18 [32000/42000 (76%)]\tLoss: 0.024160\telapsed_time: 0.02sec\n",
      "Train Epoch: 18 [38400/42000 (91%)]\tLoss: 0.204267\telapsed_time: 0.02sec\n",
      "\n",
      "Average loss: 0.0218, Accuracy: 41714/42000 (99.32%), Epoch time: 26.00sec\n",
      "\n",
      "Train Epoch: 19 [6400/42000 (15%)]\tLoss: 0.038267\telapsed_time: 0.02sec\n",
      "Train Epoch: 19 [12800/42000 (30%)]\tLoss: 0.034145\telapsed_time: 0.02sec\n",
      "Train Epoch: 19 [19200/42000 (46%)]\tLoss: 0.157664\telapsed_time: 0.02sec\n",
      "Train Epoch: 19 [25600/42000 (61%)]\tLoss: 0.018422\telapsed_time: 0.02sec\n",
      "Train Epoch: 19 [32000/42000 (76%)]\tLoss: 0.018838\telapsed_time: 0.02sec\n",
      "Train Epoch: 19 [38400/42000 (91%)]\tLoss: 0.055580\telapsed_time: 0.02sec\n",
      "\n",
      "Average loss: 0.0211, Accuracy: 41727/42000 (99.35%), Epoch time: 25.06sec\n",
      "\n",
      "Train Epoch: 20 [6400/42000 (15%)]\tLoss: 0.002848\telapsed_time: 0.02sec\n",
      "Train Epoch: 20 [12800/42000 (30%)]\tLoss: 0.107303\telapsed_time: 0.02sec\n",
      "Train Epoch: 20 [19200/42000 (46%)]\tLoss: 0.143510\telapsed_time: 0.02sec\n",
      "Train Epoch: 20 [25600/42000 (61%)]\tLoss: 0.026453\telapsed_time: 0.02sec\n",
      "Train Epoch: 20 [32000/42000 (76%)]\tLoss: 0.003004\telapsed_time: 0.02sec\n",
      "Train Epoch: 20 [38400/42000 (91%)]\tLoss: 0.036665\telapsed_time: 0.02sec\n",
      "\n",
      "Average loss: 0.0241, Accuracy: 41682/42000 (99.24%), Epoch time: 26.84sec\n",
      "\n",
      "Train Epoch: 21 [6400/42000 (15%)]\tLoss: 0.007070\telapsed_time: 0.02sec\n",
      "Train Epoch: 21 [12800/42000 (30%)]\tLoss: 0.014727\telapsed_time: 0.02sec\n",
      "Train Epoch: 21 [19200/42000 (46%)]\tLoss: 0.040202\telapsed_time: 0.02sec\n",
      "Train Epoch: 21 [25600/42000 (61%)]\tLoss: 0.020294\telapsed_time: 0.02sec\n",
      "Train Epoch: 21 [32000/42000 (76%)]\tLoss: 0.022650\telapsed_time: 0.02sec\n",
      "Train Epoch: 21 [38400/42000 (91%)]\tLoss: 0.061818\telapsed_time: 0.02sec\n",
      "\n",
      "Average loss: 0.0234, Accuracy: 41698/42000 (99.28%), Epoch time: 28.36sec\n",
      "\n",
      "Train Epoch: 22 [6400/42000 (15%)]\tLoss: 0.045421\telapsed_time: 0.02sec\n",
      "Train Epoch: 22 [12800/42000 (30%)]\tLoss: 0.001541\telapsed_time: 0.02sec\n",
      "Train Epoch: 22 [19200/42000 (46%)]\tLoss: 0.011916\telapsed_time: 0.02sec\n",
      "Train Epoch: 22 [25600/42000 (61%)]\tLoss: 0.105176\telapsed_time: 0.02sec\n",
      "Train Epoch: 22 [32000/42000 (76%)]\tLoss: 0.009505\telapsed_time: 0.02sec\n",
      "Train Epoch: 22 [38400/42000 (91%)]\tLoss: 0.096992\telapsed_time: 0.02sec\n",
      "\n",
      "Average loss: 0.0228, Accuracy: 41699/42000 (99.28%), Epoch time: 26.38sec\n",
      "\n",
      "Train Epoch: 23 [6400/42000 (15%)]\tLoss: 0.135121\telapsed_time: 0.02sec\n",
      "Train Epoch: 23 [12800/42000 (30%)]\tLoss: 0.192942\telapsed_time: 0.02sec\n",
      "Train Epoch: 23 [19200/42000 (46%)]\tLoss: 0.007787\telapsed_time: 0.02sec\n",
      "Train Epoch: 23 [25600/42000 (61%)]\tLoss: 0.011157\telapsed_time: 0.02sec\n",
      "Train Epoch: 23 [32000/42000 (76%)]\tLoss: 0.041567\telapsed_time: 0.02sec\n",
      "Train Epoch: 23 [38400/42000 (91%)]\tLoss: 0.026095\telapsed_time: 0.02sec\n",
      "\n",
      "Average loss: 0.0216, Accuracy: 41709/42000 (99.31%), Epoch time: 25.52sec\n",
      "\n",
      "Train Epoch: 24 [6400/42000 (15%)]\tLoss: 0.012804\telapsed_time: 0.02sec\n",
      "Train Epoch: 24 [12800/42000 (30%)]\tLoss: 0.029380\telapsed_time: 0.02sec\n",
      "Train Epoch: 24 [19200/42000 (46%)]\tLoss: 0.004542\telapsed_time: 0.02sec\n",
      "Train Epoch: 24 [25600/42000 (61%)]\tLoss: 0.021097\telapsed_time: 0.02sec\n",
      "Train Epoch: 24 [32000/42000 (76%)]\tLoss: 0.109983\telapsed_time: 0.02sec\n",
      "Train Epoch: 24 [38400/42000 (91%)]\tLoss: 0.009181\telapsed_time: 0.02sec\n",
      "\n",
      "Average loss: 0.0215, Accuracy: 41710/42000 (99.31%), Epoch time: 24.71sec\n",
      "\n",
      "Train Epoch: 25 [6400/42000 (15%)]\tLoss: 0.011403\telapsed_time: 0.02sec\n",
      "Train Epoch: 25 [12800/42000 (30%)]\tLoss: 0.009971\telapsed_time: 0.02sec\n",
      "Train Epoch: 25 [19200/42000 (46%)]\tLoss: 0.043333\telapsed_time: 0.02sec\n",
      "Train Epoch: 25 [25600/42000 (61%)]\tLoss: 0.011225\telapsed_time: 0.02sec\n",
      "Train Epoch: 25 [32000/42000 (76%)]\tLoss: 0.007513\telapsed_time: 0.02sec\n",
      "Train Epoch: 25 [38400/42000 (91%)]\tLoss: 0.031740\telapsed_time: 0.02sec\n",
      "\n",
      "Average loss: 0.0222, Accuracy: 41707/42000 (99.30%), Epoch time: 24.63sec\n",
      "\n",
      "Train Epoch: 26 [6400/42000 (15%)]\tLoss: 0.059519\telapsed_time: 0.02sec\n",
      "Train Epoch: 26 [12800/42000 (30%)]\tLoss: 0.007500\telapsed_time: 0.02sec\n",
      "Train Epoch: 26 [19200/42000 (46%)]\tLoss: 0.079230\telapsed_time: 0.02sec\n",
      "Train Epoch: 26 [25600/42000 (61%)]\tLoss: 0.007800\telapsed_time: 0.02sec\n",
      "Train Epoch: 26 [32000/42000 (76%)]\tLoss: 0.008907\telapsed_time: 0.02sec\n",
      "Train Epoch: 26 [38400/42000 (91%)]\tLoss: 0.073458\telapsed_time: 0.02sec\n",
      "\n",
      "Average loss: 0.0240, Accuracy: 41691/42000 (99.26%), Epoch time: 24.69sec\n",
      "\n",
      "Train Epoch: 27 [6400/42000 (15%)]\tLoss: 0.060511\telapsed_time: 0.02sec\n",
      "Train Epoch: 27 [12800/42000 (30%)]\tLoss: 0.061344\telapsed_time: 0.02sec\n",
      "Train Epoch: 27 [19200/42000 (46%)]\tLoss: 0.009551\telapsed_time: 0.02sec\n",
      "Train Epoch: 27 [25600/42000 (61%)]\tLoss: 0.034669\telapsed_time: 0.02sec\n",
      "Train Epoch: 27 [32000/42000 (76%)]\tLoss: 0.018124\telapsed_time: 0.02sec\n",
      "Train Epoch: 27 [38400/42000 (91%)]\tLoss: 0.104147\telapsed_time: 0.02sec\n",
      "\n",
      "Average loss: 0.0219, Accuracy: 41719/42000 (99.33%), Epoch time: 25.50sec\n",
      "\n",
      "Train Epoch: 28 [6400/42000 (15%)]\tLoss: 0.004913\telapsed_time: 0.03sec\n",
      "Train Epoch: 28 [12800/42000 (30%)]\tLoss: 0.009548\telapsed_time: 0.02sec\n",
      "Train Epoch: 28 [19200/42000 (46%)]\tLoss: 0.010344\telapsed_time: 0.02sec\n",
      "Train Epoch: 28 [25600/42000 (61%)]\tLoss: 0.016327\telapsed_time: 0.02sec\n",
      "Train Epoch: 28 [32000/42000 (76%)]\tLoss: 0.018202\telapsed_time: 0.02sec\n",
      "Train Epoch: 28 [38400/42000 (91%)]\tLoss: 0.315157\telapsed_time: 0.02sec\n",
      "\n",
      "Average loss: 0.0218, Accuracy: 41724/42000 (99.34%), Epoch time: 28.79sec\n",
      "\n",
      "Train Epoch: 29 [6400/42000 (15%)]\tLoss: 0.082904\telapsed_time: 0.02sec\n",
      "Train Epoch: 29 [12800/42000 (30%)]\tLoss: 0.023339\telapsed_time: 0.02sec\n",
      "Train Epoch: 29 [19200/42000 (46%)]\tLoss: 0.004031\telapsed_time: 0.02sec\n",
      "Train Epoch: 29 [25600/42000 (61%)]\tLoss: 0.075093\telapsed_time: 0.02sec\n",
      "Train Epoch: 29 [32000/42000 (76%)]\tLoss: 0.077031\telapsed_time: 0.02sec\n",
      "Train Epoch: 29 [38400/42000 (91%)]\tLoss: 0.026466\telapsed_time: 0.02sec\n",
      "\n",
      "Average loss: 0.0205, Accuracy: 41730/42000 (99.36%), Epoch time: 26.18sec\n",
      "\n",
      "Train Epoch: 30 [6400/42000 (15%)]\tLoss: 0.005074\telapsed_time: 0.02sec\n",
      "Train Epoch: 30 [12800/42000 (30%)]\tLoss: 0.006690\telapsed_time: 0.02sec\n",
      "Train Epoch: 30 [19200/42000 (46%)]\tLoss: 0.003795\telapsed_time: 0.02sec\n",
      "Train Epoch: 30 [25600/42000 (61%)]\tLoss: 0.039813\telapsed_time: 0.02sec\n",
      "Train Epoch: 30 [32000/42000 (76%)]\tLoss: 0.020847\telapsed_time: 0.02sec\n",
      "Train Epoch: 30 [38400/42000 (91%)]\tLoss: 0.016768\telapsed_time: 0.02sec\n",
      "\n",
      "Average loss: 0.0232, Accuracy: 41703/42000 (99.29%), Epoch time: 24.74sec\n",
      "\n",
      "Train Epoch: 31 [6400/42000 (15%)]\tLoss: 0.013920\telapsed_time: 0.02sec\n",
      "Train Epoch: 31 [12800/42000 (30%)]\tLoss: 0.032825\telapsed_time: 0.02sec\n",
      "Train Epoch: 31 [19200/42000 (46%)]\tLoss: 0.010919\telapsed_time: 0.02sec\n",
      "Train Epoch: 31 [25600/42000 (61%)]\tLoss: 0.052181\telapsed_time: 0.02sec\n",
      "Train Epoch: 31 [32000/42000 (76%)]\tLoss: 0.071119\telapsed_time: 0.02sec\n",
      "Train Epoch: 31 [38400/42000 (91%)]\tLoss: 0.008341\telapsed_time: 0.02sec\n",
      "\n",
      "Average loss: 0.0225, Accuracy: 41704/42000 (99.30%), Epoch time: 24.71sec\n",
      "\n",
      "Train Epoch: 32 [6400/42000 (15%)]\tLoss: 0.002277\telapsed_time: 0.02sec\n",
      "Train Epoch: 32 [12800/42000 (30%)]\tLoss: 0.090686\telapsed_time: 0.02sec\n",
      "Train Epoch: 32 [19200/42000 (46%)]\tLoss: 0.062303\telapsed_time: 0.02sec\n",
      "Train Epoch: 32 [25600/42000 (61%)]\tLoss: 0.010508\telapsed_time: 0.02sec\n",
      "Train Epoch: 32 [32000/42000 (76%)]\tLoss: 0.002332\telapsed_time: 0.02sec\n",
      "Train Epoch: 32 [38400/42000 (91%)]\tLoss: 0.037923\telapsed_time: 0.02sec\n",
      "\n",
      "Average loss: 0.0215, Accuracy: 41730/42000 (99.36%), Epoch time: 24.73sec\n"
     ]
    },
    {
     "name": "stdout",
     "output_type": "stream",
     "text": [
      "\n",
      "Train Epoch: 33 [6400/42000 (15%)]\tLoss: 0.021837\telapsed_time: 0.02sec\n",
      "Train Epoch: 33 [12800/42000 (30%)]\tLoss: 0.031906\telapsed_time: 0.02sec\n",
      "Train Epoch: 33 [19200/42000 (46%)]\tLoss: 0.016196\telapsed_time: 0.02sec\n",
      "Train Epoch: 33 [25600/42000 (61%)]\tLoss: 0.069712\telapsed_time: 0.02sec\n",
      "Train Epoch: 33 [32000/42000 (76%)]\tLoss: 0.030633\telapsed_time: 0.02sec\n",
      "Train Epoch: 33 [38400/42000 (91%)]\tLoss: 0.118901\telapsed_time: 0.02sec\n",
      "\n",
      "Average loss: 0.0220, Accuracy: 41710/42000 (99.31%), Epoch time: 24.48sec\n",
      "\n",
      "Train Epoch: 34 [6400/42000 (15%)]\tLoss: 0.061978\telapsed_time: 0.02sec\n",
      "Train Epoch: 34 [12800/42000 (30%)]\tLoss: 0.002559\telapsed_time: 0.02sec\n",
      "Train Epoch: 34 [19200/42000 (46%)]\tLoss: 0.015024\telapsed_time: 0.02sec\n",
      "Train Epoch: 34 [25600/42000 (61%)]\tLoss: 0.189988\telapsed_time: 0.02sec\n",
      "Train Epoch: 34 [32000/42000 (76%)]\tLoss: 0.059568\telapsed_time: 0.02sec\n",
      "Train Epoch: 34 [38400/42000 (91%)]\tLoss: 0.015847\telapsed_time: 0.02sec\n",
      "\n",
      "Average loss: 0.0220, Accuracy: 41706/42000 (99.30%), Epoch time: 24.67sec\n",
      "\n",
      "Train Epoch: 35 [6400/42000 (15%)]\tLoss: 0.006644\telapsed_time: 0.02sec\n",
      "Train Epoch: 35 [12800/42000 (30%)]\tLoss: 0.259549\telapsed_time: 0.02sec\n",
      "Train Epoch: 35 [19200/42000 (46%)]\tLoss: 0.004661\telapsed_time: 0.02sec\n",
      "Train Epoch: 35 [25600/42000 (61%)]\tLoss: 0.047855\telapsed_time: 0.02sec\n",
      "Train Epoch: 35 [32000/42000 (76%)]\tLoss: 0.020770\telapsed_time: 0.02sec\n",
      "Train Epoch: 35 [38400/42000 (91%)]\tLoss: 0.038451\telapsed_time: 0.02sec\n",
      "\n",
      "Average loss: 0.0225, Accuracy: 41707/42000 (99.30%), Epoch time: 24.77sec\n",
      "\n",
      "Train Epoch: 36 [6400/42000 (15%)]\tLoss: 0.004169\telapsed_time: 0.02sec\n",
      "Train Epoch: 36 [12800/42000 (30%)]\tLoss: 0.050135\telapsed_time: 0.02sec\n",
      "Train Epoch: 36 [19200/42000 (46%)]\tLoss: 0.026619\telapsed_time: 0.02sec\n",
      "Train Epoch: 36 [25600/42000 (61%)]\tLoss: 0.051116\telapsed_time: 0.02sec\n",
      "Train Epoch: 36 [32000/42000 (76%)]\tLoss: 0.013194\telapsed_time: 0.02sec\n",
      "Train Epoch: 36 [38400/42000 (91%)]\tLoss: 0.038102\telapsed_time: 0.02sec\n",
      "\n",
      "Average loss: 0.0218, Accuracy: 41716/42000 (99.32%), Epoch time: 26.40sec\n",
      "\n",
      "Train Epoch: 37 [6400/42000 (15%)]\tLoss: 0.005077\telapsed_time: 0.02sec\n",
      "Train Epoch: 37 [12800/42000 (30%)]\tLoss: 0.002412\telapsed_time: 0.02sec\n",
      "Train Epoch: 37 [19200/42000 (46%)]\tLoss: 0.068377\telapsed_time: 0.02sec\n",
      "Train Epoch: 37 [25600/42000 (61%)]\tLoss: 0.024527\telapsed_time: 0.02sec\n",
      "Train Epoch: 37 [32000/42000 (76%)]\tLoss: 0.103993\telapsed_time: 0.02sec\n",
      "Train Epoch: 37 [38400/42000 (91%)]\tLoss: 0.058643\telapsed_time: 0.02sec\n",
      "\n",
      "Average loss: 0.0228, Accuracy: 41701/42000 (99.29%), Epoch time: 25.07sec\n",
      "\n",
      "Train Epoch: 38 [6400/42000 (15%)]\tLoss: 0.036159\telapsed_time: 0.02sec\n",
      "Train Epoch: 38 [12800/42000 (30%)]\tLoss: 0.057653\telapsed_time: 0.02sec\n",
      "Train Epoch: 38 [19200/42000 (46%)]\tLoss: 0.019631\telapsed_time: 0.02sec\n",
      "Train Epoch: 38 [25600/42000 (61%)]\tLoss: 0.099707\telapsed_time: 0.02sec\n",
      "Train Epoch: 38 [32000/42000 (76%)]\tLoss: 0.097581\telapsed_time: 0.02sec\n",
      "Train Epoch: 38 [38400/42000 (91%)]\tLoss: 0.013889\telapsed_time: 0.02sec\n",
      "\n",
      "Average loss: 0.0223, Accuracy: 41719/42000 (99.33%), Epoch time: 24.44sec\n",
      "\n",
      "Train Epoch: 39 [6400/42000 (15%)]\tLoss: 0.013908\telapsed_time: 0.01sec\n",
      "Train Epoch: 39 [12800/42000 (30%)]\tLoss: 0.019984\telapsed_time: 0.02sec\n",
      "Train Epoch: 39 [19200/42000 (46%)]\tLoss: 0.010010\telapsed_time: 0.02sec\n",
      "Train Epoch: 39 [25600/42000 (61%)]\tLoss: 0.019940\telapsed_time: 0.02sec\n",
      "Train Epoch: 39 [32000/42000 (76%)]\tLoss: 0.045422\telapsed_time: 0.02sec\n",
      "Train Epoch: 39 [38400/42000 (91%)]\tLoss: 0.021819\telapsed_time: 0.02sec\n",
      "\n",
      "Average loss: 0.0206, Accuracy: 41722/42000 (99.34%), Epoch time: 24.40sec\n",
      "\n",
      "Train Epoch: 40 [6400/42000 (15%)]\tLoss: 0.037212\telapsed_time: 0.02sec\n",
      "Train Epoch: 40 [12800/42000 (30%)]\tLoss: 0.132362\telapsed_time: 0.02sec\n",
      "Train Epoch: 40 [19200/42000 (46%)]\tLoss: 0.046417\telapsed_time: 0.02sec\n",
      "Train Epoch: 40 [25600/42000 (61%)]\tLoss: 0.083549\telapsed_time: 0.02sec\n",
      "Train Epoch: 40 [32000/42000 (76%)]\tLoss: 0.034895\telapsed_time: 0.02sec\n",
      "Train Epoch: 40 [38400/42000 (91%)]\tLoss: 0.191388\telapsed_time: 0.02sec\n",
      "\n",
      "Average loss: 0.0233, Accuracy: 41694/42000 (99.27%), Epoch time: 24.35sec\n",
      "\n",
      "Train Epoch: 41 [6400/42000 (15%)]\tLoss: 0.011808\telapsed_time: 0.02sec\n",
      "Train Epoch: 41 [12800/42000 (30%)]\tLoss: 0.006973\telapsed_time: 0.02sec\n",
      "Train Epoch: 41 [19200/42000 (46%)]\tLoss: 0.070528\telapsed_time: 0.02sec\n",
      "Train Epoch: 41 [25600/42000 (61%)]\tLoss: 0.045559\telapsed_time: 0.02sec\n",
      "Train Epoch: 41 [32000/42000 (76%)]\tLoss: 0.006987\telapsed_time: 0.02sec\n",
      "Train Epoch: 41 [38400/42000 (91%)]\tLoss: 0.040179\telapsed_time: 0.02sec\n",
      "\n",
      "Average loss: 0.0218, Accuracy: 41726/42000 (99.35%), Epoch time: 24.52sec\n",
      "\n",
      "Train Epoch: 42 [6400/42000 (15%)]\tLoss: 0.038155\telapsed_time: 0.02sec\n",
      "Train Epoch: 42 [12800/42000 (30%)]\tLoss: 0.009621\telapsed_time: 0.02sec\n",
      "Train Epoch: 42 [19200/42000 (46%)]\tLoss: 0.019150\telapsed_time: 0.02sec\n",
      "Train Epoch: 42 [25600/42000 (61%)]\tLoss: 0.001434\telapsed_time: 0.02sec\n",
      "Train Epoch: 42 [32000/42000 (76%)]\tLoss: 0.040002\telapsed_time: 0.02sec\n",
      "Train Epoch: 42 [38400/42000 (91%)]\tLoss: 0.028982\telapsed_time: 0.02sec\n",
      "\n",
      "Average loss: 0.0225, Accuracy: 41707/42000 (99.30%), Epoch time: 24.53sec\n",
      "\n",
      "Train Epoch: 43 [6400/42000 (15%)]\tLoss: 0.084469\telapsed_time: 0.02sec\n",
      "Train Epoch: 43 [12800/42000 (30%)]\tLoss: 0.134078\telapsed_time: 0.02sec\n",
      "Train Epoch: 43 [19200/42000 (46%)]\tLoss: 0.011763\telapsed_time: 0.02sec\n",
      "Train Epoch: 43 [25600/42000 (61%)]\tLoss: 0.034484\telapsed_time: 0.02sec\n",
      "Train Epoch: 43 [32000/42000 (76%)]\tLoss: 0.214491\telapsed_time: 0.02sec\n",
      "Train Epoch: 43 [38400/42000 (91%)]\tLoss: 0.019460\telapsed_time: 0.01sec\n",
      "\n",
      "Average loss: 0.0214, Accuracy: 41709/42000 (99.31%), Epoch time: 24.25sec\n",
      "\n",
      "Train Epoch: 44 [6400/42000 (15%)]\tLoss: 0.134084\telapsed_time: 0.02sec\n",
      "Train Epoch: 44 [12800/42000 (30%)]\tLoss: 0.013897\telapsed_time: 0.02sec\n",
      "Train Epoch: 44 [19200/42000 (46%)]\tLoss: 0.122799\telapsed_time: 0.02sec\n",
      "Train Epoch: 44 [25600/42000 (61%)]\tLoss: 0.009987\telapsed_time: 0.02sec\n",
      "Train Epoch: 44 [32000/42000 (76%)]\tLoss: 0.012495\telapsed_time: 0.02sec\n",
      "Train Epoch: 44 [38400/42000 (91%)]\tLoss: 0.005483\telapsed_time: 0.02sec\n",
      "\n",
      "Average loss: 0.0234, Accuracy: 41697/42000 (99.28%), Epoch time: 24.55sec\n",
      "\n",
      "Train Epoch: 45 [6400/42000 (15%)]\tLoss: 0.060507\telapsed_time: 0.02sec\n",
      "Train Epoch: 45 [12800/42000 (30%)]\tLoss: 0.007618\telapsed_time: 0.02sec\n",
      "Train Epoch: 45 [19200/42000 (46%)]\tLoss: 0.088883\telapsed_time: 0.02sec\n",
      "Train Epoch: 45 [25600/42000 (61%)]\tLoss: 0.142519\telapsed_time: 0.01sec\n",
      "Train Epoch: 45 [32000/42000 (76%)]\tLoss: 0.008396\telapsed_time: 0.02sec\n",
      "Train Epoch: 45 [38400/42000 (91%)]\tLoss: 0.081461\telapsed_time: 0.02sec\n",
      "\n",
      "Average loss: 0.0226, Accuracy: 41709/42000 (99.31%), Epoch time: 24.52sec\n",
      "\n",
      "Train Epoch: 46 [6400/42000 (15%)]\tLoss: 0.001357\telapsed_time: 0.02sec\n",
      "Train Epoch: 46 [12800/42000 (30%)]\tLoss: 0.064883\telapsed_time: 0.02sec\n",
      "Train Epoch: 46 [19200/42000 (46%)]\tLoss: 0.004315\telapsed_time: 0.02sec\n",
      "Train Epoch: 46 [25600/42000 (61%)]\tLoss: 0.008174\telapsed_time: 0.02sec\n",
      "Train Epoch: 46 [32000/42000 (76%)]\tLoss: 0.016431\telapsed_time: 0.02sec\n",
      "Train Epoch: 46 [38400/42000 (91%)]\tLoss: 0.003297\telapsed_time: 0.02sec\n",
      "\n",
      "Average loss: 0.0218, Accuracy: 41706/42000 (99.30%), Epoch time: 24.34sec\n",
      "\n",
      "Train Epoch: 47 [6400/42000 (15%)]\tLoss: 0.004752\telapsed_time: 0.01sec\n",
      "Train Epoch: 47 [12800/42000 (30%)]\tLoss: 0.072222\telapsed_time: 0.02sec\n",
      "Train Epoch: 47 [19200/42000 (46%)]\tLoss: 0.018268\telapsed_time: 0.02sec\n",
      "Train Epoch: 47 [25600/42000 (61%)]\tLoss: 0.038253\telapsed_time: 0.02sec\n",
      "Train Epoch: 47 [32000/42000 (76%)]\tLoss: 0.019657\telapsed_time: 0.02sec\n",
      "Train Epoch: 47 [38400/42000 (91%)]\tLoss: 0.057128\telapsed_time: 0.02sec\n",
      "\n",
      "Average loss: 0.0217, Accuracy: 41709/42000 (99.31%), Epoch time: 24.34sec\n",
      "\n",
      "Train Epoch: 48 [6400/42000 (15%)]\tLoss: 0.005541\telapsed_time: 0.02sec\n",
      "Train Epoch: 48 [12800/42000 (30%)]\tLoss: 0.112130\telapsed_time: 0.02sec\n",
      "Train Epoch: 48 [19200/42000 (46%)]\tLoss: 0.009824\telapsed_time: 0.02sec\n",
      "Train Epoch: 48 [25600/42000 (61%)]\tLoss: 0.017087\telapsed_time: 0.02sec\n",
      "Train Epoch: 48 [32000/42000 (76%)]\tLoss: 0.008039\telapsed_time: 0.02sec\n",
      "Train Epoch: 48 [38400/42000 (91%)]\tLoss: 0.071021\telapsed_time: 0.02sec\n",
      "\n",
      "Average loss: 0.0206, Accuracy: 41724/42000 (99.34%), Epoch time: 24.33sec\n"
     ]
    },
    {
     "name": "stdout",
     "output_type": "stream",
     "text": [
      "\n",
      "Train Epoch: 49 [6400/42000 (15%)]\tLoss: 0.013380\telapsed_time: 0.02sec\n",
      "Train Epoch: 49 [12800/42000 (30%)]\tLoss: 0.017219\telapsed_time: 0.02sec\n",
      "Train Epoch: 49 [19200/42000 (46%)]\tLoss: 0.031302\telapsed_time: 0.02sec\n",
      "Train Epoch: 49 [25600/42000 (61%)]\tLoss: 0.041460\telapsed_time: 0.01sec\n",
      "Train Epoch: 49 [32000/42000 (76%)]\tLoss: 0.047749\telapsed_time: 0.02sec\n",
      "Train Epoch: 49 [38400/42000 (91%)]\tLoss: 0.020179\telapsed_time: 0.02sec\n",
      "\n",
      "Average loss: 0.0234, Accuracy: 41710/42000 (99.31%), Epoch time: 24.38sec\n",
      "\n"
     ]
    }
   ],
   "source": [
    "n_epochs = 50\n",
    "\n",
    "for epoch in range(n_epochs):\n",
    "    start = time.time() # elapsed_time = time.time() - start\n",
    "    train(epoch)\n",
    "    evaluate(train_loader)"
   ]
  },
  {
   "cell_type": "markdown",
   "metadata": {
    "_cell_guid": "3357ea6a-db51-4be7-b101-933720ad5fca",
    "_uuid": "f043414ac704967a9ab2b659fe5567a66796d6ba"
   },
   "source": [
    "## Prediction on Test Set"
   ]
  },
  {
   "cell_type": "code",
   "execution_count": 17,
   "metadata": {
    "_cell_guid": "e00a390b-0aaf-4119-926b-03ffe486e99d",
    "_uuid": "9fdbe41834761b6b91cfe4eebdfc88ce29f0723e"
   },
   "outputs": [],
   "source": [
    "def prediciton(data_loader):\n",
    "    model.eval()\n",
    "    test_pred = torch.LongTensor()\n",
    "    \n",
    "    for i, data in enumerate(data_loader):\n",
    "        data = Variable(data, volatile=True)\n",
    "        if torch.cuda.is_available():\n",
    "            data = data.cuda()\n",
    "            \n",
    "        output = model(data)\n",
    "        \n",
    "        pred = output.cpu().data.max(1, keepdim=True)[1]\n",
    "        test_pred = torch.cat((test_pred, pred), dim=0)\n",
    "        \n",
    "    return test_pred"
   ]
  },
  {
   "cell_type": "code",
   "execution_count": 18,
   "metadata": {
    "_cell_guid": "c6cc74dc-8de0-403b-abed-3ead97f0348c",
    "_uuid": "fe47f6c8c7bdfe85779ebfcf7a74e361f3b7c8a0"
   },
   "outputs": [
    {
     "name": "stderr",
     "output_type": "stream",
     "text": [
      "D:\\Users\\301518\\AppData\\Local\\Continuum\\anaconda3\\envs\\Python3.6-gpu-PyTorch\\lib\\site-packages\\ipykernel_launcher.py:6: UserWarning: volatile was removed and now has no effect. Use `with torch.no_grad():` instead.\n",
      "  \n"
     ]
    }
   ],
   "source": [
    "test_pred = prediciton(test_loader)"
   ]
  },
  {
   "cell_type": "code",
   "execution_count": 19,
   "metadata": {
    "_cell_guid": "6de7f1ff-4c33-4b1e-9316-ac022ad0287d",
    "_uuid": "4ef57831bbeeb792e7d3a847198f002ebe02f8a5"
   },
   "outputs": [],
   "source": [
    "out_df = pd.DataFrame(np.c_[np.arange(1, len(test_dataset)+1)[:,None], test_pred.numpy()], \n",
    "                      columns=['ImageId', 'Label'])"
   ]
  },
  {
   "cell_type": "code",
   "execution_count": 20,
   "metadata": {
    "_cell_guid": "b9422a68-66e5-4bc1-af9f-1d7d02576a34",
    "_uuid": "899374536c219a3b6208a4947046b6a46515f24b",
    "scrolled": true
   },
   "outputs": [
    {
     "data": {
      "text/html": [
       "<div>\n",
       "<style scoped>\n",
       "    .dataframe tbody tr th:only-of-type {\n",
       "        vertical-align: middle;\n",
       "    }\n",
       "\n",
       "    .dataframe tbody tr th {\n",
       "        vertical-align: top;\n",
       "    }\n",
       "\n",
       "    .dataframe thead th {\n",
       "        text-align: right;\n",
       "    }\n",
       "</style>\n",
       "<table border=\"1\" class=\"dataframe\">\n",
       "  <thead>\n",
       "    <tr style=\"text-align: right;\">\n",
       "      <th></th>\n",
       "      <th>ImageId</th>\n",
       "      <th>Label</th>\n",
       "    </tr>\n",
       "  </thead>\n",
       "  <tbody>\n",
       "    <tr>\n",
       "      <td>0</td>\n",
       "      <td>1</td>\n",
       "      <td>2</td>\n",
       "    </tr>\n",
       "    <tr>\n",
       "      <td>1</td>\n",
       "      <td>2</td>\n",
       "      <td>0</td>\n",
       "    </tr>\n",
       "    <tr>\n",
       "      <td>2</td>\n",
       "      <td>3</td>\n",
       "      <td>9</td>\n",
       "    </tr>\n",
       "    <tr>\n",
       "      <td>3</td>\n",
       "      <td>4</td>\n",
       "      <td>0</td>\n",
       "    </tr>\n",
       "    <tr>\n",
       "      <td>4</td>\n",
       "      <td>5</td>\n",
       "      <td>3</td>\n",
       "    </tr>\n",
       "  </tbody>\n",
       "</table>\n",
       "</div>"
      ],
      "text/plain": [
       "   ImageId  Label\n",
       "0        1      2\n",
       "1        2      0\n",
       "2        3      9\n",
       "3        4      0\n",
       "4        5      3"
      ]
     },
     "execution_count": 20,
     "metadata": {},
     "output_type": "execute_result"
    }
   ],
   "source": [
    "out_df.head()"
   ]
  },
  {
   "cell_type": "code",
   "execution_count": 21,
   "metadata": {
    "_cell_guid": "9f53df55-4569-4f11-a038-f54a1e200161",
    "_uuid": "42b9c61e3462f471d9cae883880232882de0f21f"
   },
   "outputs": [],
   "source": [
    "out_df.to_csv('CNN_pyorch.csv', index=False)"
   ]
  },
  {
   "cell_type": "code",
   "execution_count": null,
   "metadata": {},
   "outputs": [],
   "source": []
  }
 ],
 "metadata": {
  "kernelspec": {
   "display_name": "Python 3",
   "language": "python",
   "name": "python3"
  },
  "language_info": {
   "codemirror_mode": {
    "name": "ipython",
    "version": 3
   },
   "file_extension": ".py",
   "mimetype": "text/x-python",
   "name": "python",
   "nbconvert_exporter": "python",
   "pygments_lexer": "ipython3",
   "version": "3.6.9"
  }
 },
 "nbformat": 4,
 "nbformat_minor": 1
}
